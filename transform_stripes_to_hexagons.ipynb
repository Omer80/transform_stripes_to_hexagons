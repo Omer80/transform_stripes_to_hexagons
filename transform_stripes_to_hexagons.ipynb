{
 "cells": [
  {
   "cell_type": "code",
   "execution_count": 2,
   "metadata": {
    "collapsed": false
   },
   "outputs": [],
   "source": [
    "from scipy import fftpack\n",
    "import numpy as np\n",
    "import matplotlib.pyplot as plt\n",
    "%matplotlib inline"
   ]
  },
  {
   "cell_type": "code",
   "execution_count": 32,
   "metadata": {
    "collapsed": true
   },
   "outputs": [],
   "source": [
    "def azimuthalAverage(image, center=None):\n",
    "    \"\"\"\n",
    "    Calculate the azimuthally averaged radial profile.\n",
    "\n",
    "    image - The 2D image\n",
    "    center - The [x,y] pixel coordinates used as the center. The default is \n",
    "             None, which then uses the center of the image (including \n",
    "             fracitonal pixels).\n",
    "    \n",
    "    \"\"\"\n",
    "    # Calculate the indices from the image\n",
    "    y, x = np.indices(image.shape)\n",
    "\n",
    "    if not center:\n",
    "        center = np.array([(x.max()-x.min())/2.0, (x.max()-x.min())/2.0])\n",
    "\n",
    "    r = np.hypot(x - center[0], y - center[1])\n",
    "\n",
    "    # Get sorted radii\n",
    "    ind = np.argsort(r.flat)\n",
    "    r_sorted = r.flat[ind]\n",
    "    i_sorted = image.flat[ind]\n",
    "\n",
    "    # Get the integer part of the radii (bin size = 1)\n",
    "    r_int = r_sorted.astype(int)\n",
    "\n",
    "    # Find all pixels that fall within each radial bin.\n",
    "    deltar = r_int[1:] - r_int[:-1]  # Assumes all radii represented\n",
    "    rind = np.where(deltar)[0]       # location of changed radius\n",
    "    nr = rind[1:] - rind[:-1]        # number of radius bin\n",
    "    \n",
    "    # Cumulative sum to figure out sums for each radius bin\n",
    "    csim = np.cumsum(i_sorted, dtype=float)\n",
    "    tbin = csim[rind[1:]] - csim[rind[:-1]]\n",
    "\n",
    "    radial_prof = tbin / nr\n",
    "\n",
    "    return radial_prof"
   ]
  },
  {
   "cell_type": "code",
   "execution_count": 39,
   "metadata": {
    "collapsed": false
   },
   "outputs": [
    {
     "data": {
      "image/png": "[encoded data removed]",
      "text/plain": [
       "<matplotlib.figure.Figure at 0x7fa1c2e459d0>"
      ]
     },
     "metadata": {},
     "output_type": "display_data"
    }
   ],
   "source": [
    "X,Y = np.meshgrid(np.linspace(0,32,128),np.linspace(0,32,128))\n",
    "image = np.exp(1j*((2.0*np.pi)/16)*X).real\n",
    "def plotPSD(image):\n",
    "    fig,ax = plt.subplots(1,3,figsize=(3*3,3))\n",
    "    \n",
    "    # Take the fourier transform of the image.\n",
    "    F1 = fftpack.fft2(image)\n",
    "    \n",
    "    # Now shift the quadrants around so that low spatial frequencies are in\n",
    "    # the center of the 2D fourier transformed image.\n",
    "    F2 = fftpack.fftshift(F1)\n",
    "    \n",
    "    # Calculate a 2D power spectrum\n",
    "    psd2D = np.fabs(F2.real)**2\n",
    "    \n",
    "    # Calculate the azimuthally averaged 1D power spectrum\n",
    "    psd1D = azimuthalAverage(psd2D)\n",
    "    \n",
    "    # Now plot up both\n",
    "    ax[0].imshow(image)\n",
    "    ax[1].imshow(psd2D)\n",
    "    ax[2].semilogy(psd1D )\n",
    "    plt.tight_layout()\n",
    "    #plt.xlabel('Spatial Frequency')\n",
    "    #plt.ylabel('Power Spectrum')\n",
    "plotPSD(image)"
   ]
  },
  {
   "cell_type": "code",
   "execution_count": 33,
   "metadata": {
    "collapsed": false
   },
   "outputs": [
    {
     "name": "stdout",
     "output_type": "stream",
     "text": [
      "0.251968503937\n",
      "0.392699081699\n"
     ]
    }
   ],
   "source": [
    "print np.linspace(0,32,128)[np.argmax(psd1D)]\n",
    "print (2.0*np.pi)/16"
   ]
  }
 ],
 "metadata": {
  "anaconda-cloud": {},
  "kernelspec": {
   "display_name": "Python [conda env:matplotlib2]",
   "language": "python",
   "name": "conda-env-matplotlib2-py"
  },
  "language_info": {
   "codemirror_mode": {
    "name": "ipython",
    "version": 2
   },
   "file_extension": ".py",
   "mimetype": "text/x-python",
   "name": "python",
   "nbconvert_exporter": "python",
   "pygments_lexer": "ipython2",
   "version": "2.7.12"
  }
 },
 "nbformat": 4,
 "nbformat_minor": 2
}
